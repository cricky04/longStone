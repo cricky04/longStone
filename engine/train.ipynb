{
 "cells": [
  {
   "cell_type": "code",
   "execution_count": 88,
   "metadata": {},
   "outputs": [],
   "source": [
    "import torch_geometric\n",
    "import torch\n",
    "import numpy as np\n",
    "import os\n",
    "import sys\n",
    "\n",
    "sys.path.append('../')"
   ]
  },
  {
   "cell_type": "code",
   "execution_count": 89,
   "metadata": {},
   "outputs": [],
   "source": [
    "from torch_geometric.datasets import Planetoid\n",
    "from torch_geometric.transforms import NormalizeFeatures\n",
    "from torch_geometric.data import Dataset\n",
    "from torch_geometric.loader import DataLoader\n",
    "\n",
    "dataName = 'PubMed'\n",
    "dataset = Planetoid(root=f'./{dataName}', name=dataName, pre_transform=NormalizeFeatures())\n"
   ]
  },
  {
   "cell_type": "code",
   "execution_count": 90,
   "metadata": {},
   "outputs": [],
   "source": [
    "trainData = dataset\n",
    "testData = dataset"
   ]
  },
  {
   "cell_type": "code",
   "execution_count": 91,
   "metadata": {},
   "outputs": [],
   "source": [
    "from engine.model.GCN import SimpleGCN"
   ]
  },
  {
   "cell_type": "code",
   "execution_count": 92,
   "metadata": {},
   "outputs": [],
   "source": [
    "model = SimpleGCN(dataset[0].x.shape[1], torch.max(dataset[0].y).detach().numpy() +1)"
   ]
  },
  {
   "cell_type": "code",
   "execution_count": 93,
   "metadata": {},
   "outputs": [],
   "source": [
    "model.train()\n",
    "\n",
    "dataloader = DataLoader(trainData, batch_size= 1)"
   ]
  },
  {
   "cell_type": "code",
   "execution_count": 94,
   "metadata": {},
   "outputs": [
    {
     "name": "stdout",
     "output_type": "stream",
     "text": [
      "Data(x=[19717, 500], edge_index=[2, 88648], y=[19717], train_mask=[19717], val_mask=[19717], test_mask=[19717])\n"
     ]
    }
   ],
   "source": [
    "print(dataset[0])"
   ]
  },
  {
   "cell_type": "code",
   "execution_count": 95,
   "metadata": {},
   "outputs": [
    {
     "name": "stdout",
     "output_type": "stream",
     "text": [
      "SimpleGCN(\n",
      "  (conv1): GCNConv(500, 256)\n",
      "  (conv2): GCNConv(256, 16)\n",
      "  (conv3): GCNConv(16, 3)\n",
      ")\n"
     ]
    }
   ],
   "source": [
    "print(model)"
   ]
  },
  {
   "cell_type": "code",
   "execution_count": 96,
   "metadata": {},
   "outputs": [
    {
     "name": "stderr",
     "output_type": "stream",
     "text": [
      "100%|██████████| 500/500 [03:39<00:00,  2.28it/s, loss=0.0133] \n"
     ]
    }
   ],
   "source": [
    "from tqdm import tqdm\n",
    "import logging\n",
    "\n",
    "optimizer = torch.optim.AdamW(params = model.parameters(),lr = 0.001)\n",
    "pbar = tqdm(range(500))\n",
    "for e in pbar:\n",
    "    optimizer.zero_grad()\n",
    "    output = model(trainData[0].x, trainData[0].edge_index)\n",
    "    loss = torch.nn.functional.nll_loss(output[dataset.train_mask], dataset.y[dataset.train_mask])\n",
    "    loss.backward()\n",
    "    optimizer.step()\n",
    "    pbar.set_postfix({'loss' : loss.item()})\n",
    "        \n",
    "    "
   ]
  },
  {
   "cell_type": "code",
   "execution_count": 97,
   "metadata": {},
   "outputs": [
    {
     "name": "stdout",
     "output_type": "stream",
     "text": [
      "Accuracy: 0.7680\n"
     ]
    }
   ],
   "source": [
    "model.eval()\n",
    "pred = model(dataset.x, dataset.edge_index).argmax(dim=1)\n",
    "correct = (pred[dataset.test_mask] == dataset.y[dataset.test_mask]).sum()\n",
    "acc = int(correct) / int(dataset.test_mask.sum())\n",
    "print(f'Accuracy: {acc:.4f}')"
   ]
  },
  {
   "cell_type": "code",
   "execution_count": 98,
   "metadata": {},
   "outputs": [],
   "source": [
    "torch.save(model, f'../data/checkpoint/simpleGCN_{dataName}.pt')"
   ]
  }
 ],
 "metadata": {
  "kernelspec": {
   "display_name": "lig2023",
   "language": "python",
   "name": "python3"
  },
  "language_info": {
   "codemirror_mode": {
    "name": "ipython",
    "version": 3
   },
   "file_extension": ".py",
   "mimetype": "text/x-python",
   "name": "python",
   "nbconvert_exporter": "python",
   "pygments_lexer": "ipython3",
   "version": "3.11.5"
  }
 },
 "nbformat": 4,
 "nbformat_minor": 2
}
