{
 "cells": [
  {
   "cell_type": "code",
   "execution_count": 2,
   "metadata": {},
   "outputs": [],
   "source": [
    "import torch\n",
    "import torch_geometric\n",
    "import numpy as np\n",
    "import pandas as pd\n",
    "import sys\n",
    "from tqdm import tqdm\n",
    "\n",
    "sys.path.append('../')\n",
    "\n",
    "from torch_geometric.data import Data\n",
    "from torch_geometric.contrib.nn.models import GRBCDAttack\n",
    "from torch_geometric.datasets import Planetoid\n",
    "from torch_geometric.loader import DataLoader\n",
    "from torch_geometric.transforms import NormalizeFeatures\n",
    "from engine.model.GCN import SimpleGCN\n",
    "\n",
    "from torch_geometric.utils import to_networkx\n",
    "\n",
    "from torch_geometric.utils import degree\n",
    "from networkx import core_number, eigenvector_centrality, harmonic_centrality, katz_centrality, closeness_centrality, betweenness_centrality"
   ]
  },
  {
   "cell_type": "markdown",
   "metadata": {},
   "source": [
    "Data load"
   ]
  },
  {
   "cell_type": "code",
   "execution_count": 5,
   "metadata": {},
   "outputs": [],
   "source": [
    "dataName = 'Cora'\n",
    "\n",
    "dataset = Planetoid(f'./{dataName}', dataName, pre_transform=NormalizeFeatures())[0]\n",
    "dataset = Data(x = dataset.x, edge_index = dataset.edge_index) \n",
    "dataset = to_networkx(dataset, node_attrs = [\"x\"], to_undirected= False)"
   ]
  },
  {
   "cell_type": "markdown",
   "metadata": {},
   "source": [
    "Feature calculate"
   ]
  },
  {
   "cell_type": "code",
   "execution_count": null,
   "metadata": {},
   "outputs": [],
   "source": [
    "\n",
    "coreNum = core_number(dataset)"
   ]
  },
  {
   "cell_type": "markdown",
   "metadata": {},
   "source": [
    "budget load"
   ]
  },
  {
   "cell_type": "code",
   "execution_count": null,
   "metadata": {},
   "outputs": [],
   "source": [
    "import pickle\n",
    "with open(f'../result/pickles/{dataName}Budget.pkl', 'rb') as f:\n",
    "    budget = pickle.load(f)"
   ]
  },
  {
   "cell_type": "code",
   "execution_count": null,
   "metadata": {},
   "outputs": [],
   "source": [
    "pfeat = []\n",
    "pbud = []\n",
    "budList = []\n",
    "dist = []\n",
    "mv = 0\n",
    "for b in budget:\n",
    "    if b not in budList:\n",
    "        budList.append(b)\n",
    "budList.sort()\n",
    "dist = [[] for d in budList]\n",
    "for i, b in enumerate(budget):\n",
    "    if b > 0:\n",
    "        pbud.append(b)\n",
    "        pfeat.append(coreNum[i])\n",
    "        dist[budList.index(b)].append(coreNum[i])"
   ]
  },
  {
   "cell_type": "markdown",
   "metadata": {},
   "source": [
    "plot"
   ]
  },
  {
   "cell_type": "code",
   "execution_count": null,
   "metadata": {},
   "outputs": [],
   "source": [
    "import matplotlib.pyplot as plt\n",
    "import seaborn as sns\n",
    "\n",
    "for i, d in enumerate(dist):\n",
    "    for v in d:\n",
    "        plt.scatter(v,budList[i], c = 'b', alpha = 1 / len(d))\n",
    "title = f'{dataName} core and budget'\n",
    "plt.title(title)\n",
    "plt.savefig(f'../result/plot/{title}.png')\n",
    "plt.show()"
   ]
  },
  {
   "cell_type": "markdown",
   "metadata": {},
   "source": [
    "covariance"
   ]
  },
  {
   "cell_type": "code",
   "execution_count": null,
   "metadata": {},
   "outputs": [],
   "source": [
    "print(max(pbud), max(pfeat))\n",
    "ppbud = [x/max(pbud) for x in pbud]\n",
    "ppfeat = [x/max(pfeat) for x in pfeat]\n",
    "\n",
    "covval = np.cov(ppfeat, ppbud)[0,1]\n",
    "print(covval)"
   ]
  }
 ],
 "metadata": {
  "kernelspec": {
   "display_name": "lig2023",
   "language": "python",
   "name": "python3"
  },
  "language_info": {
   "codemirror_mode": {
    "name": "ipython",
    "version": 3
   },
   "file_extension": ".py",
   "mimetype": "text/x-python",
   "name": "python",
   "nbconvert_exporter": "python",
   "pygments_lexer": "ipython3",
   "version": "3.11.5"
  }
 },
 "nbformat": 4,
 "nbformat_minor": 2
}
