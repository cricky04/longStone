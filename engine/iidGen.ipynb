{
 "cells": [
  {
   "cell_type": "code",
   "execution_count": 1,
   "metadata": {},
   "outputs": [
    {
     "name": "stderr",
     "output_type": "stream",
     "text": [
      "c:\\Users\\shyun\\AppData\\Local\\anaconda3\\envs\\lig2023\\Lib\\site-packages\\tqdm\\auto.py:21: TqdmWarning: IProgress not found. Please update jupyter and ipywidgets. See https://ipywidgets.readthedocs.io/en/stable/user_install.html\n",
      "  from .autonotebook import tqdm as notebook_tqdm\n",
      "c:\\Users\\shyun\\AppData\\Local\\anaconda3\\envs\\lig2023\\Lib\\site-packages\\torch_geometric\\contrib\\__init__.py:8: UserWarning: 'torch_geometric.contrib' contains experimental code and is subject to change. Please use with caution.\n",
      "  warnings.warn(\n"
     ]
    }
   ],
   "source": [
    "import torch\n",
    "import torch_geometric\n",
    "import numpy as np\n",
    "import pandas as pd\n",
    "import sys\n",
    "from tqdm import tqdm\n",
    "\n",
    "sys.path.append('../')\n",
    "\n",
    "from torch_geometric.data import Data\n",
    "from torch_geometric.contrib.nn.models import GRBCDAttack\n",
    "from torch_geometric.datasets import Planetoid\n",
    "from torch_geometric.loader import DataLoader\n",
    "from torch_geometric.transforms import NormalizeFeatures\n",
    "from engine.model.GCN import SimpleGCN"
   ]
  },
  {
   "cell_type": "code",
   "execution_count": 6,
   "metadata": {},
   "outputs": [],
   "source": [
    "dataName = 'Cora'\n",
    "dataset = Planetoid(f'./{dataName}', dataName, pre_transform=NormalizeFeatures())[0]"
   ]
  },
  {
   "cell_type": "code",
   "execution_count": 7,
   "metadata": {},
   "outputs": [],
   "source": [
    "adj = np.load('../data/dataset/cora_adj.npz')\n",
    "col = adj['col']\n",
    "row = adj['row']\n",
    "val = adj['value']\n",
    "pdeg=  [0 for x in range(len(dataset.x))]\n",
    "\n",
    "for e, _ in enumerate(col):\n",
    "    pdeg[col[e]] = pdeg[col[e]] + val[e]\n",
    "    pdeg[row[e]] = pdeg[row[e]] + val[e]\n",
    "\n",
    "deg = [0 for x in range(len(dataset.x))]\n",
    "\n",
    "for e, _ in enumerate(dataset.edge_index[0]):\n",
    "    deg[dataset.edge_index[0][e]] = deg[dataset.edge_index[0][e]] + 1\n",
    "    deg[dataset.edge_index[1][e]] = deg[dataset.edge_index[1][e]] + 1"
   ]
  },
  {
   "cell_type": "code",
   "execution_count": 8,
   "metadata": {},
   "outputs": [],
   "source": [
    "prate = [(pdeg[i] / deg[i]) if deg[i] != 0  else 0 for i in range(len(dataset.x))]"
   ]
  },
  {
   "cell_type": "code",
   "execution_count": 9,
   "metadata": {},
   "outputs": [],
   "source": [
    "import pickle\n",
    "with open(f'../result/pickles/{dataName}Budget.pkl', 'rb') as f:\n",
    "    budget = pickle.load(f)\n"
   ]
  },
  {
   "cell_type": "code",
   "execution_count": 10,
   "metadata": {},
   "outputs": [],
   "source": [
    "pfeat = []\n",
    "pbud = []\n",
    "budList = []\n",
    "dist = []\n",
    "mv = 0\n",
    "for b in budget:\n",
    "    if b not in budList:\n",
    "        budList.append(b)\n",
    "budList.sort()\n",
    "dist = [[] for d in budList]\n",
    "for i, b in enumerate(budget):\n",
    "    if b > 0:\n",
    "        pbud.append(b)\n",
    "        pfeat.append(prate[i])\n",
    "        dist[budList.index(b)].append(prate[i])"
   ]
  },
  {
   "cell_type": "code",
   "execution_count": null,
   "metadata": {},
   "outputs": [],
   "source": [
    "import matplotlib.pyplot as plt\n",
    "import seaborn as sns\n",
    "\n",
    "for i, d in enumerate(dist):\n",
    "    for v in d:\n",
    "        plt.scatter(v,budList[i], c = 'b', alpha = 1 / len(d))\n",
    "title = f'{dataName} iid rate and budget'\n",
    "plt.title(title)\n",
    "plt.savefig(f'../result/plot/{title}.png')\n",
    "plt.show()"
   ]
  }
 ],
 "metadata": {
  "kernelspec": {
   "display_name": "lig2023",
   "language": "python",
   "name": "python3"
  },
  "language_info": {
   "codemirror_mode": {
    "name": "ipython",
    "version": 3
   },
   "file_extension": ".py",
   "mimetype": "text/x-python",
   "name": "python",
   "nbconvert_exporter": "python",
   "pygments_lexer": "ipython3",
   "version": "3.11.5"
  }
 },
 "nbformat": 4,
 "nbformat_minor": 2
}
